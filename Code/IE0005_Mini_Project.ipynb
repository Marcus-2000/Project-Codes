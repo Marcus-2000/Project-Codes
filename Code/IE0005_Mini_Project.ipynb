{
 "cells": [
  {
   "cell_type": "markdown",
   "metadata": {
    "id": "I9HXJAEQSUio"
   },
   "source": [
    "# **IE0005 Mini-Project**\n",
    "\n",
    "Dataset from Data.gov.sg : **\"Birth and Fertility in Singapore\"**\n",
    "\n",
    "Source: https://data.gov.sg/dataset/births-and-fertility-annual\n",
    "\n",
    "Done By: ***Marcus Lim***, ***Lau Nan Feng***, ***Dorelle Lua***, ***Chua Zong Lin***\n",
    "\n",
    "---\n",
    "\n",
    "**Problem**\n",
    "\n",
    "**1)** *Predicting the trend of Singapore's birth count*\n",
    "\n",
    "**2)** *With the declining trend and birthrate, will it ever hit 0 and below?*\n",
    "\n",
    "---"
   ]
  },
  {
   "cell_type": "markdown",
   "metadata": {
    "id": "RokM2OcHScWA"
   },
   "source": [
    "## **Essential Libraries**\n",
    "\n",
    ">**NumPy** : *Library for Numeric Computations in Python*  \n",
    ">**Pandas** : *Library for Data Acquisition and Preparation*  \n",
    ">**Matplotlib** : *Low-level library for Data Visualization*  \n",
    ">**Seaborn** : *Higher-level library for Data Visualization*  \n",
    ">**DecisionTreeClassifier** : *Non-parametric supervised learning method for Regression and Classification*  \n",
    ">**PlotTree** : *Plot and Visualise Decision Trees* \n"
   ]
  },
  {
   "cell_type": "code",
   "execution_count": null,
   "metadata": {
    "colab": {
     "base_uri": "https://localhost:8080/"
    },
    "id": "XbRQtoY_BG7h",
    "outputId": "b8cc89f6-12a6-4cd7-f147-0501911dd304"
   },
   "outputs": [],
   "source": [
    "# Importing the libraries\n",
    "\n",
    "import numpy as np\n",
    "import pandas as pd\n",
    "import seaborn as sb\n",
    "import matplotlib.pyplot as plt\n",
    "from sklearn.tree import DecisionTreeClassifier\n",
    "from sklearn.tree import plot_tree"
   ]
  },
  {
   "cell_type": "markdown",
   "metadata": {
    "id": "RvMwEmAaS7I3"
   },
   "source": [
    "## **Data Wrangling**\n",
    "\n",
    "As a first step, we decided to create a new DataFrame to exclude the rows in df5 as they are not relevant for us to conclude our problem."
   ]
  },
  {
   "cell_type": "code",
   "execution_count": null,
   "metadata": {
    "id": "v14oC84ZFpO2"
   },
   "outputs": [],
   "source": [
    "# Importing the datasets\n",
    "\n",
    "live_birth_dataset = pd.read_csv('live-births.csv')\n",
    "crude_birth_dataset = pd.read_csv('crude-birth-rate.csv')\n",
    "age_f_rate_dataset = pd.read_csv('age-specific-fertility-rate.csv')\n",
    "e_fert_rate_dataset = pd.read_csv('total-fertility-rate-by-ethnic-group.csv')\n",
    "fert_and_rep_rate_dataset = pd.read_csv('total-fertility-rate-and-reproduction-rate.csv')"
   ]
  },
  {
   "cell_type": "markdown",
   "metadata": {
    "id": "So5QapBrMocS"
   },
   "source": [
    "**Live Birth Dataset**\n",
    "\n",
    "Live Birth refers to the number of newborns in Singapore since 1960s."
   ]
  },
  {
   "cell_type": "code",
   "execution_count": null,
   "metadata": {
    "colab": {
     "base_uri": "https://localhost:8080/",
     "height": 206
    },
    "id": "qaEt99CpHOvI",
    "outputId": "ca5d6eaf-8326-4f61-940e-8edaa5decfb1"
   },
   "outputs": [],
   "source": [
    "# Dataset 1\n",
    "\n",
    "live_birth_dataset.head()"
   ]
  },
  {
   "cell_type": "markdown",
   "metadata": {
    "id": "2WarZslENWBL"
   },
   "source": [
    "**Crude Birth Dataset**\n",
    "\n",
    "Crude Birth refers to the number of live births per 1000 population in a given year."
   ]
  },
  {
   "cell_type": "code",
   "execution_count": null,
   "metadata": {
    "colab": {
     "base_uri": "https://localhost:8080/",
     "height": 206
    },
    "id": "ZD9txFVTHPFC",
    "outputId": "905701ad-b5ee-4de3-b5a0-96bf3739f09b"
   },
   "outputs": [],
   "source": [
    "# Dataset 2\n",
    "\n",
    "crude_birth_dataset.head()"
   ]
  },
  {
   "cell_type": "markdown",
   "metadata": {
    "id": "83yEtpYgN1b3"
   },
   "source": [
    "**Age-Specific Fertility Rate Dataset**\n",
    "\n",
    "Age-Specific Fertility Rate refers to the number of live births to females in a particular age group."
   ]
  },
  {
   "cell_type": "code",
   "execution_count": null,
   "metadata": {
    "colab": {
     "base_uri": "https://localhost:8080/",
     "height": 206
    },
    "id": "gDvt3VcTHPNc",
    "outputId": "4383c6df-226d-43d5-b1fe-cdb170f42e9e"
   },
   "outputs": [],
   "source": [
    "# Dataset 3\n",
    "\n",
    "age_f_rate_dataset.head()"
   ]
  },
  {
   "cell_type": "markdown",
   "metadata": {
    "id": "McAW0YNTN320"
   },
   "source": [
    "**Fertility Rate by Ethnic Group Dataset**\n",
    "\n",
    "Total Fertility Rate by Ethnic Group refers to the average number of live births that females from different ethnic groups would have during her reproductive years.\n",
    "\n"
   ]
  },
  {
   "cell_type": "code",
   "execution_count": null,
   "metadata": {
    "colab": {
     "base_uri": "https://localhost:8080/",
     "height": 206
    },
    "id": "-a8I2hTLHPVQ",
    "outputId": "1273aab2-bd3f-42bc-f1f0-e92938e77750"
   },
   "outputs": [],
   "source": [
    "# Dataset 4\n",
    "\n",
    "e_fert_rate_dataset.head()"
   ]
  },
  {
   "cell_type": "markdown",
   "metadata": {
    "id": "BXH-T53pN4nl"
   },
   "source": [
    "**Fertility and Reproduction Rate Dataset**\n",
    "\n",
    "Total Fertility Rate refers to the average number of live births that a female would have during her reproductive years."
   ]
  },
  {
   "cell_type": "code",
   "execution_count": null,
   "metadata": {
    "colab": {
     "base_uri": "https://localhost:8080/",
     "height": 206
    },
    "id": "V8ZH1LwiHPgr",
    "outputId": "e05207da-c74e-43f4-a5bc-00f04f4b3360"
   },
   "outputs": [],
   "source": [
    "# Dataset 5\n",
    "\n",
    "fert_and_rep_rate_dataset.head()"
   ]
  },
  {
   "cell_type": "markdown",
   "metadata": {
    "id": "stycB6FuMJrA"
   },
   "source": [
    "**Create DataFrame and Renaming of Columns**\n",
    "\n",
    "Assign Live Birth Dataset to DataFrame1 and rename the columns to their respective titles as to provide useful description of the data."
   ]
  },
  {
   "cell_type": "code",
   "execution_count": null,
   "metadata": {
    "colab": {
     "base_uri": "https://localhost:8080/",
     "height": 206
    },
    "id": "7uEFTDlbWAqt",
    "outputId": "a1a63d24-1f84-4fa9-c0b8-095354955e87"
   },
   "outputs": [],
   "source": [
    "df1 = pd.DataFrame(live_birth_dataset)\n",
    "\n",
    "df1.rename(columns = {'year': 'Year', 'level_1': 'Type of Live Birth', 'value': 'Number'}, inplace = True)\n",
    "\n",
    "df1 = df1[df1['Type of Live Birth'] != 'Resident Live-births'].reset_index()\n",
    "\n",
    "df1 = df1.drop(columns=['index'])\n",
    "\n",
    "df1.head()"
   ]
  },
  {
   "cell_type": "markdown",
   "metadata": {
    "id": "0hnSlOo_OirQ"
   },
   "source": [
    "Assign Crude Birth Dataset to DataFrame2 and rename the columns to their respective titles as to provide useful description of the data."
   ]
  },
  {
   "cell_type": "code",
   "execution_count": null,
   "metadata": {
    "colab": {
     "base_uri": "https://localhost:8080/",
     "height": 206
    },
    "id": "NcfY4BvnZBEb",
    "outputId": "338ecd64-38bb-46e5-f299-4b7ad43a33a4"
   },
   "outputs": [],
   "source": [
    "df2 = pd.DataFrame(crude_birth_dataset)\n",
    "\n",
    "df2.rename(columns = {'year': 'Year', 'level_1': 'Fertility Rate', 'value': 'Number'}, inplace = True)\n",
    "\n",
    "df2.head()"
   ]
  },
  {
   "cell_type": "markdown",
   "metadata": {
    "id": "26ZdrM5WO0ns"
   },
   "source": [
    "Assign Age-Specific Fertility Rate Dataset to DataFrame3 and rename the columns to their respective titles as to provide useful description of the data."
   ]
  },
  {
   "cell_type": "code",
   "execution_count": null,
   "metadata": {
    "colab": {
     "base_uri": "https://localhost:8080/",
     "height": 206
    },
    "id": "FwOS4OVwLqR3",
    "outputId": "bea6f1fc-490d-4832-bbbf-f941a5404084"
   },
   "outputs": [],
   "source": [
    "df3 = pd.DataFrame(age_f_rate_dataset)\n",
    "\n",
    "df3.rename(columns = {'year': 'Year', 'level_1': 'Fertility Rate', 'level_2': 'Age Range','value': 'Number'}, inplace = True)\n",
    "\n",
    "df3.head()"
   ]
  },
  {
   "cell_type": "markdown",
   "metadata": {
    "id": "2Ie0uGBbPPJg"
   },
   "source": [
    "Assign Fertility Rate by Ethnic Group Dataset to DataFrame4 and rename the columns to their respective titles as to provide useful description of the data."
   ]
  },
  {
   "cell_type": "code",
   "execution_count": null,
   "metadata": {
    "colab": {
     "base_uri": "https://localhost:8080/",
     "height": 206
    },
    "id": "ZI2SvrCWeprJ",
    "outputId": "7c39bd96-c664-4d4b-d35b-c54bd9eef8d2"
   },
   "outputs": [],
   "source": [
    "df4 = pd.DataFrame(e_fert_rate_dataset)\n",
    "\n",
    "df4.rename(columns = {'year': 'Year', 'level_1': 'Type of Live Birth', 'level_2': 'Ethnic Group', 'value': 'Number'}, inplace = True)\n",
    "\n",
    "df4.head()"
   ]
  },
  {
   "cell_type": "markdown",
   "metadata": {
    "id": "P12gD-3hPcIK"
   },
   "source": [
    "Assign Fertility and Reproduction Rate Dataset to DataFrame5 and rename the columns to their respective titles as to provide useful description of the data."
   ]
  },
  {
   "cell_type": "code",
   "execution_count": null,
   "metadata": {
    "colab": {
     "base_uri": "https://localhost:8080/",
     "height": 363
    },
    "id": "dKV6Dnhfep0K",
    "outputId": "bf3b293d-e808-4553-870a-23d16a4a56fd"
   },
   "outputs": [],
   "source": [
    "df5 = pd.DataFrame(fert_and_rep_rate_dataset)\n",
    "\n",
    "df5.rename(columns = {'year': 'Year', 'level_1': 'Total Fertility Rate', 'value': 'Number'}, inplace = True)\n",
    "\n",
    "df5.head(10)"
   ]
  },
  {
   "cell_type": "markdown",
   "metadata": {
    "id": "RTZhzcWqbupy"
   },
   "source": [
    "**Conversion of Data Types**\n",
    "\n",
    "Convert Object to Numeric (Integer) Data Types for Number"
   ]
  },
  {
   "cell_type": "code",
   "execution_count": null,
   "metadata": {
    "colab": {
     "base_uri": "https://localhost:8080/"
    },
    "id": "3e8UYTosn8Wo",
    "outputId": "35de537d-9e01-430b-b92d-4345fee1fae4"
   },
   "outputs": [],
   "source": [
    "df1.dtypes"
   ]
  },
  {
   "cell_type": "code",
   "execution_count": null,
   "metadata": {
    "colab": {
     "base_uri": "https://localhost:8080/"
    },
    "id": "votqTPHkZqWE",
    "outputId": "aac65787-3744-46f8-a8d1-5e25ace69fa2"
   },
   "outputs": [],
   "source": [
    "df1['Number'] = pd.to_numeric(df1['Number'])\n",
    "\n",
    "df1.dtypes"
   ]
  },
  {
   "cell_type": "code",
   "execution_count": null,
   "metadata": {
    "colab": {
     "base_uri": "https://localhost:8080/"
    },
    "id": "AR9O3DgxdN00",
    "outputId": "ff0f5746-ba64-49c1-82cd-909ca1d4de27"
   },
   "outputs": [],
   "source": [
    "df2.dtypes"
   ]
  },
  {
   "cell_type": "markdown",
   "metadata": {
    "id": "coF7fGf6cEY_"
   },
   "source": [
    "Convert Object to Numeric (Float) Data Types for Number and drop any null values"
   ]
  },
  {
   "cell_type": "code",
   "execution_count": null,
   "metadata": {
    "colab": {
     "base_uri": "https://localhost:8080/"
    },
    "id": "thRdwW53gLkO",
    "outputId": "d0ab3139-35f2-4de1-a4c9-c33d652c2b1a"
   },
   "outputs": [],
   "source": [
    "df3.dtypes"
   ]
  },
  {
   "cell_type": "code",
   "execution_count": null,
   "metadata": {
    "colab": {
     "base_uri": "https://localhost:8080/"
    },
    "id": "dC0_9aDlaXDC",
    "outputId": "bdc6aa95-e2e1-4076-e2e9-2928d2abfc1d"
   },
   "outputs": [],
   "source": [
    "df3 = df3.dropna()\n",
    "df3['Number'] = pd.to_numeric(df3['Number'],errors='coerce')\n",
    "df3.dtypes\n"
   ]
  },
  {
   "cell_type": "code",
   "execution_count": null,
   "metadata": {
    "colab": {
     "base_uri": "https://localhost:8080/"
    },
    "id": "sJxNFstjgLul",
    "outputId": "805e703b-326f-418b-8bf5-291230956dad"
   },
   "outputs": [],
   "source": [
    "df4.dtypes"
   ]
  },
  {
   "cell_type": "code",
   "execution_count": null,
   "metadata": {
    "colab": {
     "base_uri": "https://localhost:8080/"
    },
    "id": "pdWxfSDegL3N",
    "outputId": "cc7b36bf-ca3e-4133-bce8-0cb3d58af6a0"
   },
   "outputs": [],
   "source": [
    "df5.dtypes"
   ]
  },
  {
   "cell_type": "markdown",
   "metadata": {
    "id": "rOjn6NxwFutP"
   },
   "source": [
    "## **Data Exploration and Analysis**\n",
    "\n"
   ]
  },
  {
   "cell_type": "markdown",
   "metadata": {
    "id": "ha5Juc0jaUPA"
   },
   "source": [
    "**Time Series Graph for DataFrame1**\n",
    "\n",
    "The number of babies has been decreasing steadily since 1960s.However,there is a sudden spike in the number of babies during the year 1987.This is because Singapore's government started to introduce policies to increase the fertility rates in 1987.The policies consists of 3 main categories: financial incentives,support for parents to combine work and family and marriage encouragement.\n",
    "\n",
    "Financial incentives: The government began offering cash payments to parents in 2000s.The government also offers tax rebates for working mothers,medical insurance for their children and various housing subsidy schemes.\n",
    "\n",
    "Support for parents to combine work and family: The government has increased paid maternity leave from 8 to 12 in 2004 and from 12 to 16 in 2008 and also subsidze centre-based childcare to help working mothers who rely on childcare when they are working.\n",
    "\n",
    "Marriage encouragement: The government seek to promote marriage through housing policies that offers various inducements to Singaporeans who plan to marry."
   ]
  },
  {
   "cell_type": "code",
   "execution_count": null,
   "metadata": {
    "colab": {
     "base_uri": "https://localhost:8080/",
     "height": 867
    },
    "id": "l_oT_X7cMF42",
    "outputId": "835702eb-5568-4f90-9fd6-101af452bfef"
   },
   "outputs": [],
   "source": [
    "# Time series plot of df1\n",
    "\n",
    "plt.figure(figsize=(10,10))\n",
    "\n",
    "plt.plot(df1.Year, df1.Number)\n",
    "\n",
    "plt.xlabel('Year')\n",
    "plt.ylabel('Number of babies')"
   ]
  },
  {
   "cell_type": "markdown",
   "metadata": {
    "id": "W9KuzreebSgh"
   },
   "source": [
    "**Time Series Graph for DataFrame 4**\n",
    "\n",
    "Fertility rates for all ethnic groups has generally been declining over the past few decades.In 2018,the fertility rate for Malays is 1.85 while the fertility rate for Chinese and Indians are 0.98 and 1 respectively.Overall,the fertility rate for Malays are approximately 85% higher than that of Chinese and Indians.\n",
    "\n",
    "This is because Malays' family members are willing to take care of the childrens while the mothers are working in the day and have a very close-knit community as compared to the Chinese and Indians.\n",
    "Usually,Malays place a great amount of value and emphasis on the family and in having families.However,they do not dismiss the importance of career progression and financial security but they typically value their families much more."
   ]
  },
  {
   "cell_type": "code",
   "execution_count": null,
   "metadata": {
    "colab": {
     "base_uri": "https://localhost:8080/",
     "height": 867
    },
    "id": "AqZXMu_cQvPv",
    "outputId": "d0fa3553-7b3c-4635-e8d1-804443e44738"
   },
   "outputs": [],
   "source": [
    "# Time series plot of df4\n",
    "\n",
    "chinese = df4[(df4['Ethnic Group'] == 'Chinese')]\n",
    "indian = df4[(df4['Ethnic Group'] == 'Indians')]\n",
    "malay = df4[(df4['Ethnic Group'] == 'Malays')]\n",
    "\n",
    "plt.figure(figsize=(10,10))\n",
    "\n",
    "plt.plot(chinese.Year, chinese.Number)\n",
    "plt.plot(indian.Year, indian.Number, color='green')\n",
    "plt.plot(malay.Year, malay.Number, color='red')\n",
    "\n",
    "plt.legend(['Chinese', 'Indians', 'Malays'])\n",
    "\n",
    "plt.xlabel('Year')\n",
    "plt.ylabel('Number of babies')"
   ]
  },
  {
   "cell_type": "markdown",
   "metadata": {
    "id": "hC02FqaFblbM"
   },
   "source": [
    "**Time Series Graph for DataFrame 5**\n",
    "\n",
    "Fertility rates has generally been declining from 5.76 to 1.14 over the past few decades,largely due to the rising proportion of singles,later marriages and married couples having fewer childrens.\n",
    "\n",
    "Over the past 10 years,the proportion of singles have increased across all age groups especially among those aged 25 to 34.The proportion of singles among men and women aged 25 to 29 went up from 74.6% to 81.6% and 54% to 69% respectively.The proportion of singles among men and women aged 30 to 34 went up from 37.1% to 41.9% and 25.1% to 32.8% respectively.\n",
    "Therefore,many Singaporeans are marrying at a later age.\n",
    "\n",
    "Married couples are also having fewer childrens as compared to 10 years ago.The proportion of women aged 30 to 39 who have 2 childrens went down from 36.2% to 33.6% while the proportion of women aged 30 to 39 who have only 1 children went up from 29.4% to 29.7%.\n",
    "The main reasons why married couples are having fewer childrens are high costs of raising a child in Singapore and the desire to defer marriage and parenthood to focus on career progression."
   ]
  },
  {
   "cell_type": "code",
   "execution_count": null,
   "metadata": {
    "colab": {
     "base_uri": "https://localhost:8080/",
     "height": 870
    },
    "id": "2OPA5csOObVs",
    "outputId": "c1fa6e8c-e8a9-4e0c-ad52-7a5ac033c9a4"
   },
   "outputs": [],
   "source": [
    "# Time series plot of df5\n",
    "\n",
    "gross = df5[(df5['Total Fertility Rate'] == 'Gross Reproduction Rate')]\n",
    "net = df5[(df5['Total Fertility Rate'] == 'Net Reproduction Rate')]\n",
    "total = df5[(df5['Total Fertility Rate'] == 'Total Fertility Rate')]\n",
    "\n",
    "plt.figure(figsize=(10,10))\n",
    "\n",
    "plt.plot(gross.Year, gross.Number)\n",
    "plt.plot(net.Year, net.Number, color='green')\n",
    "plt.plot(total.Year, total.Number, color='red')\n",
    "\n",
    "plt.legend(['Gross Reproduction Rate', 'Net Reproduction Rate', 'Total Fertility Rate'])\n",
    "\n",
    "plt.xlabel('Year')\n",
    "plt.ylabel('Number of babies')"
   ]
  },
  {
   "cell_type": "markdown",
   "metadata": {
    "id": "vCbQG4FNnmde"
   },
   "source": [
    "**Swarm Plot for DataFrame 3**\n",
    "\n",
    "There is a rising trend in the number of women aged 30 to 34 giving birth since 2000s.\n",
    "This is because more and more people are marrying and giving birth at a later age."
   ]
  },
  {
   "cell_type": "code",
   "execution_count": null,
   "metadata": {
    "colab": {
     "base_uri": "https://localhost:8080/",
     "height": 288
    },
    "id": "qLVNjRjsfrGp",
    "outputId": "7f79db7e-01b6-4806-986a-86ca5bfde178"
   },
   "outputs": [],
   "source": [
    "f = plt.figure(figsize=(30, 6))\n",
    "sb.swarmplot(data=df3, x=\"Year\", y=\"Number\", hue=\"Age Range\")"
   ]
  },
  {
   "cell_type": "markdown",
   "metadata": {
    "id": "SHH1gnMetCPk"
   },
   "source": [
    "**Bar Plot for DataFrame 3**\n",
    "\n",
    "There is a rising trend in the number of women aged 30 to 34 giving birth since 2000s.This is because more and more people are marrying and giving birth at a later age."
   ]
  },
  {
   "cell_type": "code",
   "execution_count": null,
   "metadata": {
    "colab": {
     "base_uri": "https://localhost:8080/",
     "height": 288
    },
    "id": "5gMzQIPFf7wu",
    "outputId": "317cdb18-3f5d-4801-aae8-25c20a1e7057"
   },
   "outputs": [],
   "source": [
    "f = plt.figure(figsize=(30, 6))\n",
    "sb.barplot(data=df3, x=\"Year\", y=\"Number\", hue=\"Age Range\")"
   ]
  },
  {
   "cell_type": "markdown",
   "metadata": {
    "id": "p04rBdow8vOR"
   },
   "source": [
    "**Swarm Plot for DataFrame 4**\n",
    "\n",
    "The fertility rates for Malays is generally higher than the Chinese and Indians.This is because the Malays prioritize family over career progression and financial security."
   ]
  },
  {
   "cell_type": "code",
   "execution_count": null,
   "metadata": {
    "colab": {
     "base_uri": "https://localhost:8080/",
     "height": 290
    },
    "id": "f-y_RZo8dWgp",
    "outputId": "2169be79-da85-477b-8278-75a221db929f"
   },
   "outputs": [],
   "source": [
    "f = plt.figure(figsize=(30, 6))\n",
    "sb.swarmplot(data=df4, x=\"Year\", y=\"Number\", hue=\"Ethnic Group\")"
   ]
  },
  {
   "cell_type": "markdown",
   "metadata": {
    "id": "DEURSxWO9lk7"
   },
   "source": [
    "**Bar Plot for DataFrame 4**\n",
    "\n",
    "The fertility rates for Malays is generally higher than the Chinese and Indians.This is because the Malays prioritize family over career progression and financial security."
   ]
  },
  {
   "cell_type": "code",
   "execution_count": null,
   "metadata": {
    "colab": {
     "base_uri": "https://localhost:8080/",
     "height": 106
    },
    "id": "RRX7oF6ld9JO",
    "outputId": "422609ea-66ce-470f-ce21-55e76d2cc815"
   },
   "outputs": [],
   "source": [
    "f = plt.figure(figsize=(30, 6))\n",
    "sb.barplot(data=df4, x=\"Year\", y=\"Number\", hue=\"Ethnic Group\")"
   ]
  },
  {
   "cell_type": "markdown",
   "metadata": {
    "id": "SIBH9lvU9PIK"
   },
   "source": [
    "**Swarm Plot for DataFrame 5**\n",
    "\n",
    "The Total Fertility Rate has been decreasing rapidly over the years.\n",
    "\n",
    "The Gross and Net Production Rates has decreased slightly but remains constantly at around 0.56."
   ]
  },
  {
   "cell_type": "code",
   "execution_count": null,
   "metadata": {
    "colab": {
     "base_uri": "https://localhost:8080/",
     "height": 106
    },
    "id": "QxOWPzQreJ2O",
    "outputId": "70239c72-2b94-4d86-83de-62b70ef3463a"
   },
   "outputs": [],
   "source": [
    "f = plt.figure(figsize=(30, 6))\n",
    "sb.swarmplot(data=df5, x=\"Year\", y=\"Number\", hue=\"Total Fertility Rate\")"
   ]
  },
  {
   "cell_type": "markdown",
   "metadata": {
    "id": "yRxvyBap7HFv"
   },
   "source": [
    "**Bar Plot for DataFrame5**\n",
    "\n",
    "The Total Fertility Rate has been decreasing rapidly over the years.\n",
    "\n",
    "The Gross and Net Reproduction Rates have decreased slightly but remains constantly at around 0.56."
   ]
  },
  {
   "cell_type": "code",
   "execution_count": null,
   "metadata": {
    "colab": {
     "base_uri": "https://localhost:8080/",
     "height": 291
    },
    "id": "7tPHW1gFed2z",
    "outputId": "5c89445d-b935-4ea0-9d65-85b3deeef9cb"
   },
   "outputs": [],
   "source": [
    "f = plt.figure(figsize=(30, 6))\n",
    "sb.barplot(data=df5, x=\"Year\", y=\"Number\", hue=\"Total Fertility Rate\")"
   ]
  },
  {
   "cell_type": "code",
   "execution_count": null,
   "metadata": {
    "colab": {
     "base_uri": "https://localhost:8080/",
     "height": 206
    },
    "id": "RzoTA79QehPt",
    "outputId": "959d5941-3cae-47e0-b7bf-6b60ca34566c"
   },
   "outputs": [],
   "source": [
    "totalfertilityrate = df5[df5[\"Total Fertility Rate\"].isin(['Total Fertility Rate'])]\n",
    "\n",
    "totalfertilityrate.head()"
   ]
  },
  {
   "cell_type": "markdown",
   "metadata": {
    "id": "8a2i6iNDczSZ"
   },
   "source": [
    "## **Linear Regression**\n",
    "\n",
    "### **Uni-Variate Linear Regression**\n",
    "\n",
    "Response: ***Birth Rates***  \n",
    "Predictor: ***Year***\n"
   ]
  },
  {
   "cell_type": "markdown",
   "metadata": {
    "id": "Ln2UUfH-tlKE"
   },
   "source": [
    "The explained variance (R^2) for train data is approximately 0.34.\n",
    "\n",
    "Since the explained variance (R^2) is not close to 1,the model is not very accurate in predicting the response.\n",
    "\n",
    "Therefore,the model is not able to do a good job of using the predictor variable (Year) to explain the variation of the response variable (Birth Rates)."
   ]
  },
  {
   "cell_type": "code",
   "execution_count": null,
   "metadata": {
    "colab": {
     "base_uri": "https://localhost:8080/",
     "height": 847
    },
    "id": "t2NTWGyttdmf",
    "outputId": "2479a6c1-0390-4d08-dcc3-91f83f593ac1"
   },
   "outputs": [],
   "source": [
    "# Import essential models and functions from sklearn\n",
    "from sklearn.linear_model import LinearRegression\n",
    "from sklearn.model_selection import train_test_split\n",
    "from sklearn.metrics import mean_squared_error\n",
    "\n",
    "# Recall the Total-HP Dataset\n",
    "X = pd.DataFrame(df1['Year'])\n",
    "y = pd.DataFrame(df1['Number'])\n",
    "\n",
    "# Split the Dataset into Train and Test\n",
    "X_train, X_test, y_train, y_test = train_test_split(X, y, test_size = 0.25)\n",
    "\n",
    "# Linear Regression using Train Data\n",
    "linreg = LinearRegression()         # create the linear regression object\n",
    "linreg.fit(X_train, y_train)        # train the linear regression model\n",
    "\n",
    "# Predict Total values corresponding to HP\n",
    "y_train_pred = linreg.predict(X_train)\n",
    "y_test_pred = linreg.predict(X_test)\n",
    "\n",
    "# Formula for the Regression line\n",
    "regline_x = X_train\n",
    "regline_y = linreg.intercept_ + linreg.coef_ * X_train\n",
    "\n",
    "# Explained Variance (R^2)\n",
    "print(\"Explained Variance (R^2) \\t:\", linreg.score(X_train, y_train))\n",
    "\n",
    "# Plot the Predictions vs the True values\n",
    "plt.figure(figsize=(10,10))\n",
    "plt.scatter(X_train, y_train, color = \"blue\")\n",
    "plt.plot(regline_x.to_numpy(), regline_y.to_numpy(), 'r-', linewidth = 1)\n",
    "plt.show()"
   ]
  },
  {
   "cell_type": "markdown",
   "metadata": {
    "id": "-iN6AkHtvEwY"
   },
   "source": [
    "The explained variance (R^2) for test data is approximately 0.47.\n",
    "\n",
    "Since the explained variance (R^2) is not close to 1,the model is not very accurate in predicting the response.\n",
    "\n",
    "Therefore,the model is not able to do a good job of using the predictor variable (Year) to explain the variation of response variable (Birth Rates)."
   ]
  },
  {
   "cell_type": "code",
   "execution_count": null,
   "metadata": {
    "colab": {
     "base_uri": "https://localhost:8080/",
     "height": 72
    },
    "id": "IAf0wMmd1BCI",
    "outputId": "1cd82099-66e4-47fb-d05f-023e4f23aa71"
   },
   "outputs": [],
   "source": [
    "# Explained Variance (R^2)\n",
    "print(\"Explained Variance (R^2) \\t:\", linreg.score(X_test, y_test))\n",
    "\n",
    "# Plot the Predictions\n",
    "f = plt.figure(figsize=(10, 10))\n",
    "plt.scatter(X_test, y_test, color = \"green\")\n",
    "plt.scatter(X_test, y_test_pred, color = \"red\")\n",
    "plt.show()"
   ]
  },
  {
   "cell_type": "markdown",
   "metadata": {
    "id": "_AONKQ8hAhgu"
   },
   "source": [
    "Response: ***Crude Birth Rates***  \n",
    "Predictor: ***Year***"
   ]
  },
  {
   "cell_type": "markdown",
   "metadata": {
    "id": "t9KBGTTWwEwZ"
   },
   "source": [
    "The explained variance (R^2) for train data is approximately 0.83.\n",
    "\n",
    "Since the explained variance (R^2) is close to 1,the model is very accurate in predicting the response.\n",
    "\n",
    "Therefore,the model is able to do a good job of using the predictor variable (Year) to explain the variation of the response variable (Crude Birth Rates)."
   ]
  },
  {
   "cell_type": "code",
   "execution_count": null,
   "metadata": {
    "colab": {
     "base_uri": "https://localhost:8080/",
     "height": 847
    },
    "id": "GxALkZsjg0eP",
    "outputId": "8438474a-de1e-4d6e-d2d0-b85af51c765f"
   },
   "outputs": [],
   "source": [
    "# Import essential models and functions from sklearn\n",
    "from sklearn.linear_model import LinearRegression\n",
    "from sklearn.model_selection import train_test_split\n",
    "from sklearn.metrics import mean_squared_error\n",
    "\n",
    "# Recall the Total-HP Dataset\n",
    "X = pd.DataFrame(df2['Year'])\n",
    "y = pd.DataFrame(df2['Number'])\n",
    "\n",
    "# Split the Dataset into Train and Test\n",
    "X_train, X_test, y_train, y_test = train_test_split(X, y, test_size = 0.25)\n",
    "\n",
    "# Linear Regression using Train Data\n",
    "linreg2 = LinearRegression()         # create the linear regression object\n",
    "linreg2.fit(X_train, y_train)        # train the linear regression model\n",
    "\n",
    "# Predict Total values corresponding to HP\n",
    "y_train_pred = linreg2.predict(X_train)\n",
    "y_test_pred = linreg2.predict(X_test)\n",
    "\n",
    "# Formula for the Regression line\n",
    "regline_x = X_train\n",
    "regline_y = linreg2.intercept_ + linreg2.coef_ * X_train\n",
    "\n",
    "# Explained Variance (R^2)\n",
    "print(\"Explained Variance (R^2) \\t:\", linreg2.score(X_train, y_train))\n",
    "\n",
    "# Plot the Predictions vs the True values\n",
    "plt.figure(figsize=(10,10))\n",
    "plt.scatter(X_train, y_train, color = \"blue\")\n",
    "plt.plot(regline_x.to_numpy(), regline_y.to_numpy(), 'r-', linewidth = 1)\n",
    "plt.show()"
   ]
  },
  {
   "cell_type": "markdown",
   "metadata": {
    "id": "9bUuG2JlwyII"
   },
   "source": [
    "The explained variance (R^2) for test data is approximately 0.81.\n",
    "\n",
    "Since the explained variance (R^2) is close to 1,the model is very accurate in predicting the response.\n",
    "\n",
    "Therefore,the model is able to do a good job of using the predictor variable (Year) to explain the variation of the response variable (Crude Birth Rates)."
   ]
  },
  {
   "cell_type": "code",
   "execution_count": null,
   "metadata": {
    "colab": {
     "base_uri": "https://localhost:8080/",
     "height": 830
    },
    "id": "mD-SId_Dgx49",
    "outputId": "8fb93375-1977-4937-8fd7-8db922481d24"
   },
   "outputs": [],
   "source": [
    "# Plot the Predictions\n",
    "f = plt.figure(figsize=(10, 10))\n",
    "plt.scatter(X_test, y_test, color = \"green\")\n",
    "plt.scatter(X_test, y_test_pred, color = \"red\")\n",
    "plt.show()"
   ]
  },
  {
   "cell_type": "code",
   "execution_count": null,
   "metadata": {
    "colab": {
     "base_uri": "https://localhost:8080/"
    },
    "id": "UA5qi3dpgyUB",
    "outputId": "45559dcf-97f5-47ed-b382-6401ccf5a1e0"
   },
   "outputs": [],
   "source": [
    "# Explained Variance (R^2)\n",
    "print(\"Explained Variance (R^2) \\t:\", linreg2.score(X_test, y_test))"
   ]
  },
  {
   "cell_type": "markdown",
   "metadata": {
    "id": "v9FCWNIPp1VQ"
   },
   "source": [
    "Response: ***Total Fertility Rate***  \n",
    "Predictor: ***Year***"
   ]
  },
  {
   "cell_type": "markdown",
   "metadata": {
    "id": "pRW64FfWyhv4"
   },
   "source": [
    "The explained variance (R^2) for train data is approximately 0.69.\n",
    "\n",
    "Since the explained variance (R^2) is close to 1,the model is moderately accurate in predicting the response.\n",
    "\n",
    "Therefore,the model is able to do a good job of using the predictor variable (Year) to explain the variation of the response variable (Total Fertility Rate)."
   ]
  },
  {
   "cell_type": "code",
   "execution_count": null,
   "metadata": {
    "colab": {
     "base_uri": "https://localhost:8080/",
     "height": 72
    },
    "id": "oDoCVh64p-Gf",
    "outputId": "202b9112-e3f3-4c11-9e61-be980b59d213"
   },
   "outputs": [],
   "source": [
    "# Import essential models and functions from sklearn\n",
    "from sklearn.linear_model import LinearRegression\n",
    "from sklearn.model_selection import train_test_split\n",
    "from sklearn.metrics import mean_squared_error\n",
    "\n",
    "# Recall the Total-HP Dataset\n",
    "X = pd.DataFrame(totalfertilityrate['Year'])\n",
    "y = pd.DataFrame(totalfertilityrate['Number'])\n",
    "\n",
    "# Split the Dataset into Train and Test\n",
    "X_train, X_test, y_train, y_test = train_test_split(X, y, test_size = 0.25)\n",
    "\n",
    "# Linear Regression using Train Data\n",
    "linreg3 = LinearRegression()         # create the linear regression object\n",
    "linreg3.fit(X_train, y_train)        # train the linear regression model\n",
    "\n",
    "# Predict Total values corresponding to HP\n",
    "y_train_pred = linreg3.predict(X_train)\n",
    "y_test_pred = linreg3.predict(X_test)\n",
    "\n",
    "# Formula for the Regression line\n",
    "regline_x = X_train\n",
    "regline_y = linreg3.intercept_ + linreg3.coef_ * X_train\n",
    "\n",
    "# Explained Variance (R^2)\n",
    "print(\"Explained Variance (R^2) \\t:\", linreg3.score(X_train, y_train))\n",
    "\n",
    "# Plot the Predictions vs the True values\n",
    "plt.figure(figsize=(10,10))\n",
    "plt.scatter(X_train, y_train, color = \"blue\")\n",
    "plt.plot(regline_x.to_numpy(), regline_y.to_numpy(), 'r-', linewidth = 1)\n",
    "plt.show()"
   ]
  },
  {
   "cell_type": "markdown",
   "metadata": {
    "id": "olrAp4ikzb1n"
   },
   "source": [
    "The explained variance (R^2) for test data is approximately 0.65.\n",
    "\n",
    "Since the explained variance (R^2) is close to 1,the model is moderately accurate in predicting the response.\n",
    "\n",
    "Therefore,the model is able to do a good job of using the predictor variable (Year) to explain the variation of the response variable (Total Fertility Rate)."
   ]
  },
  {
   "cell_type": "code",
   "execution_count": null,
   "metadata": {
    "colab": {
     "base_uri": "https://localhost:8080/",
     "height": 830
    },
    "id": "UwPdnhahqT1s",
    "outputId": "816f5dfa-a95a-4921-83bd-168bfdf70ff1"
   },
   "outputs": [],
   "source": [
    "# Plot the Predictions\n",
    "f = plt.figure(figsize=(10, 10))\n",
    "plt.scatter(X_test, y_test, color = \"green\")\n",
    "plt.scatter(X_test, y_test_pred, color = \"red\")\n",
    "plt.show()"
   ]
  },
  {
   "cell_type": "code",
   "execution_count": null,
   "metadata": {
    "colab": {
     "base_uri": "https://localhost:8080/"
    },
    "id": "CAq_xbN9qXl0",
    "outputId": "f9572c1b-c5ed-4c68-a357-907cca5ed127"
   },
   "outputs": [],
   "source": [
    "# Explained Variance (R^2)\n",
    "print(\"Explained Variance (R^2) \\t:\", linreg3.score(X_test, y_test))"
   ]
  },
  {
   "cell_type": "markdown",
   "metadata": {
    "id": "7lwTBrG0mkaG"
   },
   "source": [
    "## **Forecast**\n",
    "### **Using Double Exponential Smoothing to forecast**\n",
    "\n",
    "Double Exponential Smoothing is a technique used to predict data forecast by using alpha and gamma as the weights based on the previous data. As our data is only until 2018, we have combined additional data by feeding the algorithm using prediction inputs from the LinearRegression model, linreg, in order to come out with the forecast."
   ]
  },
  {
   "cell_type": "code",
   "execution_count": null,
   "metadata": {
    "colab": {
     "base_uri": "https://localhost:8080/",
     "height": 718
    },
    "id": "GWEg-j7BwiwS",
    "outputId": "c8268325-c168-465c-8aee-83074924cb01"
   },
   "outputs": [],
   "source": [
    "from statsmodels.tsa.api import SimpleExpSmoothing\n",
    "import pandas as pd\n",
    "import plotly.express as px\n",
    "\n",
    "y = list(df1['Number'])\n",
    "\n",
    "alpha = 1\n",
    "gamma = 0.05\n",
    "period = 6\n",
    "\n",
    "ten_pred_year = []\n",
    "ten_year = []\n",
    "exp_pred = []\n",
    "pct_var = []\n",
    "\n",
    "first_pred_year = 2018\n",
    "\n",
    "for years in range(period):\n",
    "  first_pred_year += 1\n",
    "  ten_pred_year.append(first_pred_year)\n",
    "  x_pred = [[first_pred_year]]\n",
    "  y_pred = float(linreg.predict(x_pred))\n",
    "  ten_year.append(y_pred)\n",
    "\n",
    "pt = y[0]\n",
    "\n",
    "bt = y[1] - y[0]\n",
    "\n",
    "forecast = [pt]\n",
    "\n",
    "for i in range(1, len(y)):\n",
    "  temp_pt = alpha * y[i] + (1 - alpha) * (pt + bt)\n",
    "  bt = gamma * (temp_pt - pt) + (1 - gamma) * bt\n",
    "  pt = temp_pt\n",
    "\n",
    "  forecast.append(pt + (1 * bt))\n",
    "\n",
    "forecast = list(forecast)\n",
    "\n",
    "for i in range(1, period):\n",
    "  temp_pt = alpha * ten_year[i] + (1 - alpha) * (pt + bt)\n",
    "  bt = gamma * (temp_pt - pt) + (1 - gamma) * bt\n",
    "  pt = temp_pt\n",
    "\n",
    "  forecast.append(pt + (1 * bt))\n",
    "\n",
    "plt.plot(y, color = 'blue', label='Original')\n",
    "plt.plot(forecast, 'r--', label='Forecast')\n",
    "plt.plot(len(forecast), forecast[len(forecast) - 1], '+', label='2024 Baby Prediction', color='black')\n",
    "plt.title('2024 Baby Prediction Forecast')\n",
    "plt.xlabel('Year Intervals')\n",
    "plt.ylabel('Number of babies born')\n",
    "plt.legend()\n",
    "\n",
    "print(forecast[len(forecast) - 1])"
   ]
  },
  {
   "cell_type": "markdown",
   "metadata": {
    "id": "mRY5jA1vfbco"
   },
   "source": [
    "## **Mean percentage of error against predicted values  = 1.93%**##"
   ]
  },
  {
   "cell_type": "code",
   "execution_count": null,
   "metadata": {
    "colab": {
     "base_uri": "https://localhost:8080/",
     "height": 363
    },
    "id": "SljUmK6jMShP",
    "outputId": "46e1e84f-e784-48d9-d07d-6eea74d867ab"
   },
   "outputs": [],
   "source": [
    "length=len(forecast) -5\n",
    "val_list = []\n",
    "for values in range(0,length):\n",
    "  val_list.append(forecast[values])\n",
    "\n",
    "df1['Predicted Values'] = val_list\n",
    "\n",
    "df1['Percentage Variance in %'] = ((df1['Number'] - df1['Predicted Values']) / df1['Number']) * 100 \n",
    "\n",
    "df1.tail(10)"
   ]
  },
  {
   "cell_type": "code",
   "execution_count": null,
   "metadata": {
    "colab": {
     "base_uri": "https://localhost:8080/",
     "height": 300
    },
    "id": "zVe1SKCfeLko",
    "outputId": "77cea125-0193-4b8b-9177-fa3ee9c05046"
   },
   "outputs": [],
   "source": [
    "df1.describe()"
   ]
  },
  {
   "cell_type": "markdown",
   "metadata": {
    "id": "8TWMJ3m3AW1e"
   },
   "source": [
    "## **Prediction by decaying exponential curve**\n"
   ]
  },
  {
   "cell_type": "code",
   "execution_count": null,
   "metadata": {
    "colab": {
     "base_uri": "https://localhost:8080/",
     "height": 89
    },
    "id": "6qntUmv1Qpdf",
    "outputId": "dc422f18-1c68-4e25-a7ed-0a590950cd79"
   },
   "outputs": [],
   "source": [
    "# fit a second degree polynomial to the economic data\n",
    "from numpy import arange\n",
    "from pandas import read_csv\n",
    "from scipy.optimize import curve_fit\n",
    "from matplotlib import pyplot\n",
    " \n",
    "# define the true objective function\n",
    "def objective(x, a, b, c):\n",
    " return b * np.exp(-x/c) + a\n",
    "\n",
    "test = []\n",
    "\n",
    "i = 0\n",
    "\n",
    "for var in range(len(totalfertilityrate['Year'])):\n",
    "  i += 1\n",
    "  test.append(i)\n",
    "\n",
    "# choose the input and output variables\n",
    "x, y = test, totalfertilityrate['Number']\n",
    "# curve fit\n",
    "popt, _ = curve_fit(objective, x, y)\n",
    "# summarize the parameter values\n",
    "a, b, c = popt\n",
    "\n",
    "print('y = %.5f * e ^ - x / %.5f + %.5f' % (b, c, a))\n",
    "print('Asymptote: %.5f' % (a))\n",
    "\n",
    "# plot input vs output\n",
    "pyplot.plot(x, y, 'b-', label='Original Values')\n",
    "# define a sequence of inputs between the smallest and largest known inputs\n",
    "x_line = arange(min(x), max(x), 1)\n",
    "# calculate the output for the range\n",
    "y_line = objective(x_line, a, b, c)\n",
    "# create a line plot for the mapping function\n",
    "pyplot.plot(x_line, y_line, 'r--', label='Best Fit Curve')\n",
    "pyplot.axhline(y = a, color='black', label='Asymptote')\n",
    "plt.xlabel('Year Intervals')\n",
    "plt.ylabel('Fertility Rate')\n",
    "plt.title('Fertility Rate vs Year Intervals')\n",
    "plt.legend()\n",
    "pyplot.show()"
   ]
  },
  {
   "cell_type": "markdown",
   "metadata": {
    "id": "OtDgBttrAuHI"
   },
   "source": [
    "## **Extras**##"
   ]
  },
  {
   "cell_type": "code",
   "execution_count": null,
   "metadata": {
    "colab": {
     "base_uri": "https://localhost:8080/"
    },
    "id": "kgtwATYPAL55",
    "outputId": "72bad89f-9ff9-4113-aaae-e493f1a8c032"
   },
   "outputs": [],
   "source": [
    "new_list = []\n",
    "\n",
    "xx = 0 \n",
    "for xx in range(len(totalfertilityrate['Year'])): \n",
    " \n",
    "  yy = 5.35215 * np.exp( - xx / 10.52950 )+ 1.25824 \n",
    "  new_list.append(yy)\n",
    "  xx+=1 \n",
    " \n",
    "print(new_list)"
   ]
  },
  {
   "cell_type": "code",
   "execution_count": null,
   "metadata": {
    "colab": {
     "base_uri": "https://localhost:8080/",
     "height": 1000
    },
    "id": "XTVz0gJDKnnt",
    "outputId": "b3f48fa0-ad74-4d4b-9a15-c107a4e702b5"
   },
   "outputs": [],
   "source": [
    "totalfertilityrate['Exponential Fitted Values'] = new_list\n",
    "\n",
    "totalfertilityrate['Percentage Variance in %'] = ((totalfertilityrate['Number'] - totalfertilityrate['Exponential Fitted Values']) / totalfertilityrate['Number']) * 100 \n",
    "\n",
    "totalfertilityrate.drop(columns=['Total Fertility Rate'])"
   ]
  },
  {
   "cell_type": "code",
   "execution_count": null,
   "metadata": {
    "colab": {
     "base_uri": "https://localhost:8080/",
     "height": 300
    },
    "id": "RK22d6UpYzQw",
    "outputId": "54f45418-96ef-4483-ed78-f2014dc8c900"
   },
   "outputs": [],
   "source": [
    "totalfertilityrate.describe().round(5)"
   ]
  }
 ],
 "metadata": {
  "colab": {
   "provenance": []
  },
  "kernelspec": {
   "display_name": "Python 3 (ipykernel)",
   "language": "python",
   "name": "python3"
  },
  "language_info": {
   "codemirror_mode": {
    "name": "ipython",
    "version": 3
   },
   "file_extension": ".py",
   "mimetype": "text/x-python",
   "name": "python",
   "nbconvert_exporter": "python",
   "pygments_lexer": "ipython3",
   "version": "3.9.13"
  }
 },
 "nbformat": 4,
 "nbformat_minor": 1
}
